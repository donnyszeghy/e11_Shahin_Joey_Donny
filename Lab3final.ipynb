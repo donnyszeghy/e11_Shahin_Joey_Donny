{
 "cells": [
  {
   "cell_type": "code",
   "execution_count": 7,
   "id": "a49ccab8-0ef8-45f3-852e-fdd992b1e788",
   "metadata": {},
   "outputs": [],
   "source": [
    "import time\n",
    "import adafruit_pm25\n",
    "import csv\n",
    "import serial\n",
    "from adafruit_pm25.uart import PM25_UART\n",
    "import matplotlib.pyplot as plt\n",
    "\n",
    "reset_pin=None\n",
    "\n",
    "\n",
    "uart = serial.Serial(\"/dev/ttyS0\", baudrate=9600, timeout=0.25)"
   ]
  },
  {
   "cell_type": "code",
   "execution_count": 8,
   "id": "3d0e576d-4ef2-40a3-9f75-fe028f6cc49e",
   "metadata": {},
   "outputs": [],
   "source": [
    "meta_data = ['time', 'Pm25', 'Pm10']\n",
    "#file = open('/home/pi/Documents/pm25data.csv')\n"
   ]
  },
  {
   "cell_type": "code",
   "execution_count": 9,
   "id": "7764d6d4-2930-49b4-bb0f-c94e3acaeab4",
   "metadata": {},
   "outputs": [
    {
     "data": {
      "text/plain": [
       "16"
      ]
     },
     "execution_count": 9,
     "metadata": {},
     "output_type": "execute_result"
    }
   ],
   "source": [
    "file = open('/home/pi/Documents/pm25data.csv', 'w', newline='')\n",
    "writer = csv.writer(file)\n",
    "\n",
    "writer.writerow(meta_data)"
   ]
  },
  {
   "cell_type": "code",
   "execution_count": 10,
   "id": "4d3362c3-746f-44cf-af0e-ea77f9e4cd00",
   "metadata": {},
   "outputs": [],
   "source": [
    "pm25 = PM25_UART(uart, reset_pin)"
   ]
  },
  {
   "cell_type": "code",
   "execution_count": 11,
   "id": "2e7793c5-1e6b-4056-bea0-a516313dd55c",
   "metadata": {
    "scrolled": true
   },
   "outputs": [
    {
     "name": "stdout",
     "output_type": "stream",
     "text": [
      "[1707349788.8144405, 0, 3] time elapsed: 0.0021142959594726562\n",
      "[1707349790.8168435, 0, 3] time elapsed: 2.0045173168182373\n",
      "[1707349792.8192954, 0, 3] time elapsed: 4.006969213485718\n",
      "[1707349794.8219476, 0, 3] time elapsed: 6.0096213817596436\n",
      "[1707349796.8243313, 0, 3] time elapsed: 8.012005090713501\n",
      "[1707349798.8267798, 0, 3] time elapsed: 10.014453649520874\n",
      "[1707349800.829487, 0, 3] time elapsed: 12.017160892486572\n",
      "[1707349802.831869, 0, 3] time elapsed: 14.019542694091797\n",
      "[1707349804.8342645, 0, 3] time elapsed: 16.02193832397461\n",
      "[1707349806.8366718, 0, 3] time elapsed: 18.024345636367798\n",
      "[1707349808.839376, 0, 3] time elapsed: 20.027049779891968\n",
      "[1707349810.8417556, 0, 3] time elapsed: 22.02942943572998\n",
      "[1707349812.8441393, 0, 3] time elapsed: 24.031813144683838\n",
      "[1707349814.8465433, 0, 3] time elapsed: 26.03421711921692\n",
      "[1707349816.848499, 0, 3] time elapsed: 28.03617286682129\n",
      "[1707349818.8508837, 0, 3] time elapsed: 30.038557529449463\n"
     ]
    }
   ],
   "source": [
    "start = time.time()\n",
    "aqdata = pm25.read()\n",
    "while True:\n",
    "\n",
    "    now = time.time()\n",
    "    time_elapsed = now - start\n",
    "\n",
    "    data = [now, aqdata[\"particles 25um\"], aqdata[\"particles 10um\"]]\n",
    "        \n",
    "    writer.writerow(data)\n",
    "    print(data, 'time elapsed:', time_elapsed)\n",
    "\n",
    "    time.sleep(2)\n",
    "    \n",
    "    if time_elapsed > 30:\n",
    "            break\n",
    "    "
   ]
  },
  {
   "cell_type": "code",
   "execution_count": 12,
   "id": "6dbaccab-a4ca-4e8e-b2b1-577e6450707a",
   "metadata": {
    "scrolled": true
   },
   "outputs": [
    {
     "data": {
      "text/plain": [
       "<function matplotlib.pyplot.show(close=None, block=None)>"
      ]
     },
     "execution_count": 12,
     "metadata": {},
     "output_type": "execute_result"
    },
    {
     "data": {
      "image/png": "[encoded data removed]",
      "text/plain": [
       "<Figure size 640x480 with 1 Axes>"
      ]
     },
     "metadata": {},
     "output_type": "display_data"
    }
   ],
   "source": [
    "\n",
    "plt.hist()\n",
    "plt.show"
   ]
  },
  {
   "cell_type": "code",
   "execution_count": 13,
   "id": "b53ae4fb-5de7-40f4-bdfe-64dc28f69848",
   "metadata": {},
   "outputs": [],
   "source": [
    "file.close()"
   ]
  },
  {
   "cell_type": "code",
   "execution_count": null,
   "id": "146b4887-ddb8-48f1-819b-800d5c4a38dc",
   "metadata": {},
   "outputs": [],
   "source": []
  }
 ],
 "metadata": {
  "kernelspec": {
   "display_name": "Python 3 (ipykernel)",
   "language": "python",
   "name": "python3"
  },
  "language_info": {
   "codemirror_mode": {
    "name": "ipython",
    "version": 3
   },
   "file_extension": ".py",
   "mimetype": "text/x-python",
   "name": "python",
   "nbconvert_exporter": "python",
   "pygments_lexer": "ipython3",
   "version": "3.9.2"
  }
 },
 "nbformat": 4,
 "nbformat_minor": 5
}
