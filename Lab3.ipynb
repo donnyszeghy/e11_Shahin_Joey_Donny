{
 "cells": [
  {
   "cell_type": "code",
   "execution_count": 7,
   "id": "a49ccab8-0ef8-45f3-852e-fdd992b1e788",
   "metadata": {},
   "outputs": [],
   "source": [
    "import time\n",
    "import adafruit_pm25\n",
    "import csv\n",
    "import serial\n",
    "from adafruit_pm25.uart import PM25_UART\n",
    "\n",
    "\n",
    "#uart = serial.Serial(\"/dev/ttyS0\", baudrate=9600, timeout=0.25)"
   ]
  },
  {
   "cell_type": "code",
   "execution_count": 25,
   "id": "3d0e576d-4ef2-40a3-9f75-fe028f6cc49e",
   "metadata": {},
   "outputs": [],
   "source": [
    "meta_data = ['time', 'Pm25', 'Pm10']\n",
    "file = open('/home/pi/Documents/pm25data')\n"
   ]
  },
  {
   "cell_type": "code",
   "execution_count": 2,
   "id": "01859ed0-ae28-4ef5-be5f-496a4e6027a7",
   "metadata": {},
   "outputs": [],
   "source": [
    "reset_pin = None"
   ]
  },
  {
   "cell_type": "code",
   "execution_count": 5,
   "id": "7f855640-a2f1-4d44-9760-b2afba7d3735",
   "metadata": {},
   "outputs": [],
   "source": [
    "uart = serial.Serial(\"/dev/ttyS0\", baudrate=9600, timeout=0.25)"
   ]
  },
  {
   "cell_type": "code",
   "execution_count": 8,
   "id": "4d3362c3-746f-44cf-af0e-ea77f9e4cd00",
   "metadata": {},
   "outputs": [],
   "source": [
    " pm25 = PM25_UART(uart, reset_pin)"
   ]
  },
  {
   "cell_type": "code",
   "execution_count": 9,
   "id": "5063ad72-832e-4334-8dcf-d8ca4889cf4a",
   "metadata": {},
   "outputs": [
    {
     "name": "stdout",
     "output_type": "stream",
     "text": [
      "Found PM2.5 sensor, reading data...\n",
      "\n",
      "Concentration Units (standard)\n",
      "---------------------------------------\n",
      "PM 1.0: 0\tPM2.5: 0\tPM10: 0\n",
      "Concentration Units (environmental)\n",
      "---------------------------------------\n",
      "PM 1.0: 0\tPM2.5: 0\tPM10: 0\n",
      "---------------------------------------\n",
      "Particles > 0.3um / 0.1L air: 63\n",
      "Particles > 0.5um / 0.1L air: 20\n",
      "Particles > 1.0um / 0.1L air: 3\n",
      "Particles > 2.5um / 0.1L air: 0\n",
      "Particles > 5.0um / 0.1L air: 0\n",
      "Particles > 10 um / 0.1L air: 0\n",
      "---------------------------------------\n",
      "\n",
      "Concentration Units (standard)\n",
      "---------------------------------------\n",
      "PM 1.0: 0\tPM2.5: 0\tPM10: 0\n",
      "Concentration Units (environmental)\n",
      "---------------------------------------\n",
      "PM 1.0: 0\tPM2.5: 0\tPM10: 0\n",
      "---------------------------------------\n",
      "Particles > 0.3um / 0.1L air: 63\n",
      "Particles > 0.5um / 0.1L air: 20\n",
      "Particles > 1.0um / 0.1L air: 3\n",
      "Particles > 2.5um / 0.1L air: 0\n",
      "Particles > 5.0um / 0.1L air: 0\n",
      "Particles > 10 um / 0.1L air: 0\n",
      "---------------------------------------\n",
      "\n",
      "Concentration Units (standard)\n",
      "---------------------------------------\n",
      "PM 1.0: 0\tPM2.5: 0\tPM10: 0\n",
      "Concentration Units (environmental)\n",
      "---------------------------------------\n",
      "PM 1.0: 0\tPM2.5: 0\tPM10: 0\n",
      "---------------------------------------\n",
      "Particles > 0.3um / 0.1L air: 63\n",
      "Particles > 0.5um / 0.1L air: 20\n",
      "Particles > 1.0um / 0.1L air: 3\n",
      "Particles > 2.5um / 0.1L air: 0\n",
      "Particles > 5.0um / 0.1L air: 0\n",
      "Particles > 10 um / 0.1L air: 0\n",
      "---------------------------------------\n",
      "\n",
      "Concentration Units (standard)\n",
      "---------------------------------------\n",
      "PM 1.0: 0\tPM2.5: 0\tPM10: 0\n",
      "Concentration Units (environmental)\n",
      "---------------------------------------\n",
      "PM 1.0: 0\tPM2.5: 0\tPM10: 0\n",
      "---------------------------------------\n",
      "Particles > 0.3um / 0.1L air: 63\n",
      "Particles > 0.5um / 0.1L air: 20\n",
      "Particles > 1.0um / 0.1L air: 3\n",
      "Particles > 2.5um / 0.1L air: 0\n",
      "Particles > 5.0um / 0.1L air: 0\n",
      "Particles > 10 um / 0.1L air: 0\n",
      "---------------------------------------\n",
      "\n",
      "Concentration Units (standard)\n",
      "---------------------------------------\n",
      "PM 1.0: 0\tPM2.5: 0\tPM10: 0\n",
      "Concentration Units (environmental)\n",
      "---------------------------------------\n",
      "PM 1.0: 0\tPM2.5: 0\tPM10: 0\n",
      "---------------------------------------\n",
      "Particles > 0.3um / 0.1L air: 63\n",
      "Particles > 0.5um / 0.1L air: 20\n",
      "Particles > 1.0um / 0.1L air: 3\n",
      "Particles > 2.5um / 0.1L air: 0\n",
      "Particles > 5.0um / 0.1L air: 0\n",
      "Particles > 10 um / 0.1L air: 0\n",
      "---------------------------------------\n",
      "\n",
      "Concentration Units (standard)\n",
      "---------------------------------------\n",
      "PM 1.0: 0\tPM2.5: 0\tPM10: 0\n",
      "Concentration Units (environmental)\n",
      "---------------------------------------\n",
      "PM 1.0: 0\tPM2.5: 0\tPM10: 0\n",
      "---------------------------------------\n",
      "Particles > 0.3um / 0.1L air: 63\n",
      "Particles > 0.5um / 0.1L air: 20\n",
      "Particles > 1.0um / 0.1L air: 3\n",
      "Particles > 2.5um / 0.1L air: 0\n",
      "Particles > 5.0um / 0.1L air: 0\n",
      "Particles > 10 um / 0.1L air: 0\n",
      "---------------------------------------\n"
     ]
    },
    {
     "ename": "KeyboardInterrupt",
     "evalue": "",
     "output_type": "error",
     "traceback": [
      "\u001b[0;31m---------------------------------------------------------------------------\u001b[0m",
      "\u001b[0;31mKeyboardInterrupt\u001b[0m                         Traceback (most recent call last)",
      "Cell \u001b[0;32mIn[9], line 4\u001b[0m\n\u001b[1;32m      1\u001b[0m \u001b[38;5;28mprint\u001b[39m(\u001b[38;5;124m\"\u001b[39m\u001b[38;5;124mFound PM2.5 sensor, reading data...\u001b[39m\u001b[38;5;124m\"\u001b[39m)\n\u001b[1;32m      3\u001b[0m \u001b[38;5;28;01mwhile\u001b[39;00m \u001b[38;5;28;01mTrue\u001b[39;00m:\n\u001b[0;32m----> 4\u001b[0m     \u001b[43mtime\u001b[49m\u001b[38;5;241;43m.\u001b[39;49m\u001b[43msleep\u001b[49m\u001b[43m(\u001b[49m\u001b[38;5;241;43m1\u001b[39;49m\u001b[43m)\u001b[49m\n\u001b[1;32m      6\u001b[0m     \u001b[38;5;28;01mtry\u001b[39;00m:\n\u001b[1;32m      7\u001b[0m         aqdata \u001b[38;5;241m=\u001b[39m pm25\u001b[38;5;241m.\u001b[39mread()\n",
      "\u001b[0;31mKeyboardInterrupt\u001b[0m: "
     ]
    }
   ],
   "source": [
    "print(\"Found PM2.5 sensor, reading data...\")\n",
    "\n",
    "while True:\n",
    "    time.sleep(1)\n",
    "\n",
    "    try:\n",
    "        aqdata = pm25.read()\n",
    "        # print(aqdata)\n",
    "    except RuntimeError:\n",
    "        print(\"Unable to read from sensor, retrying...\")\n",
    "        continue\n",
    "\n",
    "    print()\n",
    "    print(\"Concentration Units (standard)\")\n",
    "    print(\"---------------------------------------\")\n",
    "    print(\n",
    "        \"PM 1.0: %d\\tPM2.5: %d\\tPM10: %d\"\n",
    "        % (aqdata[\"pm10 standard\"], aqdata[\"pm25 standard\"], aqdata[\"pm100 standard\"])\n",
    "    )\n",
    "    print(\"Concentration Units (environmental)\")\n",
    "    print(\"---------------------------------------\")\n",
    "    print(\n",
    "        \"PM 1.0: %d\\tPM2.5: %d\\tPM10: %d\"\n",
    "        % (aqdata[\"pm10 env\"], aqdata[\"pm25 env\"], aqdata[\"pm100 env\"])\n",
    "    )\n",
    "    print(\"---------------------------------------\")\n",
    "    print(\"Particles > 0.3um / 0.1L air:\", aqdata[\"particles 03um\"])\n",
    "    print(\"Particles > 0.5um / 0.1L air:\", aqdata[\"particles 05um\"])\n",
    "    print(\"Particles > 1.0um / 0.1L air:\", aqdata[\"particles 10um\"])\n",
    "    print(\"Particles > 2.5um / 0.1L air:\", aqdata[\"particles 25um\"])\n",
    "    print(\"Particles > 5.0um / 0.1L air:\", aqdata[\"particles 50um\"])\n",
    "    print(\"Particles > 10 um / 0.1L air:\", aqdata[\"particles 100um\"])\n",
    "    print(\"---------------------------------------\")\n",
    "    "
   ]
  },
  {
   "cell_type": "code",
   "execution_count": null,
   "id": "2e7793c5-1e6b-4056-bea0-a516313dd55c",
   "metadata": {},
   "outputs": [],
   "source": []
  }
 ],
 "metadata": {
  "kernelspec": {
   "display_name": "Python 3 (ipykernel)",
   "language": "python",
   "name": "python3"
  },
  "language_info": {
   "codemirror_mode": {
    "name": "ipython",
    "version": 3
   },
   "file_extension": ".py",
   "mimetype": "text/x-python",
   "name": "python",
   "nbconvert_exporter": "python",
   "pygments_lexer": "ipython3",
   "version": "3.9.2"
  }
 },
 "nbformat": 4,
 "nbformat_minor": 5
}
