{
 "cells": [
  {
   "cell_type": "code",
   "execution_count": 6,
   "id": "ccf6242f-1069-4ef6-8c0f-057967781643",
   "metadata": {
    "scrolled": true
   },
   "outputs": [
    {
     "name": "stdout",
     "output_type": "stream",
     "text": [
      "0.00046324729919433594 sec \n",
      "Temperature: 35.4 C Gas: 224949 ohm Humidity: 100.0 % Pressure: 680.428 hPa Altitude = 3235.07 meters\n",
      "0.6630175113677979 sec \n",
      "Temperature: 25.1 C Gas: 85409 ohm Humidity: 43.6 % Pressure: 992.174 hPa Altitude = 176.97 meters\n",
      "1.1737759113311768 sec \n",
      "Temperature: 25.2 C Gas: 120089 ohm Humidity: 43.6 % Pressure: 992.202 hPa Altitude = 176.73 meters\n",
      "1.6843323707580566 sec \n",
      "Temperature: 25.3 C Gas: 140573 ohm Humidity: 43.5 % Pressure: 992.220 hPa Altitude = 176.58 meters\n",
      "2.19478702545166 sec \n",
      "Temperature: 25.3 C Gas: 154385 ohm Humidity: 43.4 % Pressure: 992.233 hPa Altitude = 176.47 meters\n",
      "2.7053468227386475 sec \n",
      "Temperature: 25.4 C Gas: 164828 ohm Humidity: 43.3 % Pressure: 992.252 hPa Altitude = 176.31 meters\n",
      "3.2162587642669678 sec \n",
      "Temperature: 25.5 C Gas: 171381 ohm Humidity: 43.1 % Pressure: 992.267 hPa Altitude = 176.18 meters\n",
      "3.7277426719665527 sec \n",
      "Temperature: 25.5 C Gas: 178099 ohm Humidity: 43.1 % Pressure: 992.273 hPa Altitude = 176.13 meters\n",
      "4.23973822593689 sec \n",
      "Temperature: 25.6 C Gas: 184550 ohm Humidity: 42.9 % Pressure: 992.270 hPa Altitude = 176.15 meters\n",
      "4.750189542770386 sec \n",
      "Temperature: 25.6 C Gas: 185867 ohm Humidity: 42.8 % Pressure: 992.271 hPa Altitude = 176.15 meters\n",
      "5.260648012161255 sec \n",
      "Temperature: 25.6 C Gas: 190253 ohm Humidity: 42.6 % Pressure: 992.277 hPa Altitude = 176.10 meters\n",
      "Done\n"
     ]
    }
   ],
   "source": [
    "import adafruit_bme680\n",
    "import time\n",
    "import board\n",
    "import csv\n",
    "\n",
    "# Create sensor object, communicating over the board's default I2C bus\n",
    "i2c = board.I2C()   # uses board.SCL and board.SDA\n",
    "bme680 = adafruit_bme680.Adafruit_BME680_I2C(i2c)\n",
    "\n",
    "# change this to match the location's pressure (hPa) at sea level\n",
    "bme680.sea_level_pressure = 1013.25\n",
    "bme680file = open('/home/pi/Documents/bme680file', 'w')\n",
    "writer = csv.writer(bme680file)\n",
    "\n",
    "start = time.time()\n",
    "\n",
    "while True:\n",
    "    \n",
    "    now = time.time()\n",
    "    time_elapsed = now - start\n",
    "    print(time_elapsed, 'sec', \"\\nTemperature: %0.1f C\" % bme680.temperature, \"Gas: %d ohm\" % bme680.gas,\"Humidity: %0.1f %%\" % bme680.relative_humidity,\"Pressure: %0.3f hPa\" % bme680.pressure,\"Altitude = %0.2f meters\" % bme680.altitude)\n",
    "    entry = (time_elapsed, 'sec', \"\\nTemperature: %0.1f C\" % bme680.temperature, \"Gas: %d ohm\" % bme680.gas,\"Humidity: %0.1f %%\" % bme680.relative_humidity,\"Pressure: %0.3f hPa\" % bme680.pressure,\"Altitude = %0.2f meters\" % bme680.altitude)\n",
    "    writer.writerow(entry)\n",
    "    time.sleep(0.5)\n",
    "    if time_elapsed >= 5:\n",
    "        break\n",
    "\n",
    "\n",
    "    \n",
    "print('Done')\n",
    "bme680file.close()\n"
   ]
  },
  {
   "cell_type": "code",
   "execution_count": null,
   "id": "65dae93a-9570-42f2-90a1-849c3e2e7d5f",
   "metadata": {},
   "outputs": [],
   "source": [
    "print(time.time())"
   ]
  },
  {
   "cell_type": "code",
   "execution_count": null,
   "id": "f6e99898-62e7-4a2f-9a39-a3b0db1109e0",
   "metadata": {},
   "outputs": [],
   "source": []
  }
 ],
 "metadata": {
  "kernelspec": {
   "display_name": "Python 3 (ipykernel)",
   "language": "python",
   "name": "python3"
  },
  "language_info": {
   "codemirror_mode": {
    "name": "ipython",
    "version": 3
   },
   "file_extension": ".py",
   "mimetype": "text/x-python",
   "name": "python",
   "nbconvert_exporter": "python",
   "pygments_lexer": "ipython3",
   "version": "3.9.2"
  }
 },
 "nbformat": 4,
 "nbformat_minor": 5
}
