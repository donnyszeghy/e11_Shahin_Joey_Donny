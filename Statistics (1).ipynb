{
 "cells": [
  {
   "cell_type": "code",
   "execution_count": 1,
   "id": "e8820fc1",
   "metadata": {},
   "outputs": [
    {
     "ename": "NameError",
     "evalue": "name 'np' is not defined",
     "output_type": "error",
     "traceback": [
      "\u001b[0;31m---------------------------------------------------------------------------\u001b[0m",
      "\u001b[0;31mNameError\u001b[0m                                 Traceback (most recent call last)",
      "Cell \u001b[0;32mIn [1], line 1\u001b[0m\n\u001b[0;32m----> 1\u001b[0m InMg \u001b[38;5;241m=\u001b[39m \u001b[43mnp\u001b[49m\u001b[38;5;241m.\u001b[39mmean(new_data[\u001b[38;5;124m\"\u001b[39m\u001b[38;5;124mGas\u001b[39m\u001b[38;5;124m\"\u001b[39m])\n\u001b[1;32m      2\u001b[0m OMg \u001b[38;5;241m=\u001b[39m np\u001b[38;5;241m.\u001b[39mmean(new_data2[\u001b[38;5;124m\"\u001b[39m\u001b[38;5;124mGas\u001b[39m\u001b[38;5;124m\"\u001b[39m])\n\u001b[1;32m      3\u001b[0m StdGO \u001b[38;5;241m=\u001b[39m np\u001b[38;5;241m.\u001b[39mstd(new_data2[\u001b[38;5;124m\"\u001b[39m\u001b[38;5;124mGas\u001b[39m\u001b[38;5;124m\"\u001b[39m])\n",
      "\u001b[0;31mNameError\u001b[0m: name 'np' is not defined"
     ]
    }
   ],
   "source": [
    "InMg = np.mean(new_data[\"Gas\"])\n",
    "OMg = np.mean(new_data2[\"Gas\"])\n",
    "StdGO = np.std(new_data2[\"Gas\"])\n",
    "\n",
    "ImA = np.mean(new_data[\"Altitude\"])\n",
    "OMA = np.mean(new_data2[\"Altitude\"])\n",
    "StdAO = np.std(new_data2[\"Altitude\"])\n",
    "\n",
    "ImP = np.mean(new_data[\"Pressure\"])\n",
    "OMP = np.mean(new_data2[\"Pressure\"])\n",
    "StdPO = np.std(new_data2[\"Pressure\"])\n",
    "\n",
    "ImPm25 = np.mean(new_data[\"pm25\"])\n",
    "OMPm25 = np.mean(new_data2[\"pm25\"])\n",
    "StdPmO = np.std(new_data2[\"pm25\"])\n",
    "\n",
    "ImPm10 = np.mean(new_data[\"pm10\"])\n",
    "OMPm10 = np.mean(new_data2[\"pm10\"])\n",
    "StdPm1O = np.std(new_data2[\"pm10\"])\n",
    "\n",
    "ImH = np.mean(new_data[\"Humidity\"])\n",
    "OMH = np.mean(new_data2[\"Humidity\"])\n",
    "StdHO = np.std(new_data2[\"Humidity\"])\n",
    "\n",
    "ImT = np.mean(new_data[\"Temperature\"])\n",
    "OMT = np.mean(new_data2[\"Temperature\"])\n",
    "StdTO = np.std(new_data2[\"Temperature\"])\n",
    "\n",
    "#InsideD = (InM)\n",
    "N = math.sqrt(270)\n",
    "UnG = (StdGO/(N))*3      \n",
    "UnA = (StdAO/(N))*3\n",
    "UnP = (StdPO/(N))*3\n",
    "Unp25 = (StdPmO/(N))*3\n",
    "Unp10 = (StdPm1O/(N))*3\n",
    "UnH = (StdHO/(N))*3\n",
    "UnT = (StdTO/(N))*3\n",
    "\n",
    "CompA = abs(ImA-OMA)\n",
    "CompG = abs(InMg-OMg)\n",
    "CompP = abs(ImP-OMP)\n",
    "Comp25 = abs(ImPm25-OMPm25)\n",
    "Comp10 = abs(ImPm10 - OMPm10)\n",
    "CompH = abs(ImH - OMH)\n",
    "CompT = abs(ImT - OMT)\n",
    "\n",
    "if CompG > UnG:\n",
    "    print('data is statistically different for Gas')\n",
    "else: \n",
    "    print ('data is not statistically different for Gas')\n",
    "if CompA > UnA:\n",
    "    print('data is statistically different for Altitude')\n",
    "else: \n",
    "    print ('data is not statistically different for Altitude')\n",
    "if CompP > UnP:\n",
    "    print('data is statistically different for Pressure')\n",
    "else: \n",
    "    print ('data is not statistically different for Pressure')\n",
    "if Comp25 > Unp25: \n",
    "    print('data is statistically different for pm25')\n",
    "else: \n",
    "    print ('data is not statistically different for pm25')\n",
    "if Comp10 > Unp10:\n",
    "    print('data is statistically different for pm10')\n",
    "else: \n",
    "    print ('data is not statistically different for pm10')\n",
    "if CompH > UnH:\n",
    "    print('data is statistically different for Humidity')\n",
    "else: \n",
    "    print ('data is not statistically different for Humidity')\n",
    "if CompT > UnT:\n",
    "    print('data is statistically different for Temperature')\n",
    "else: \n",
    "    print ('data is not statistically different for Temperature')"
   ]
  },
  {
   "cell_type": "code",
   "execution_count": null,
   "id": "fd2a4f32",
   "metadata": {},
   "outputs": [],
   "source": []
  }
 ],
 "metadata": {
  "kernelspec": {
   "display_name": "Python 3 (ipykernel)",
   "language": "python",
   "name": "python3"
  },
  "language_info": {
   "codemirror_mode": {
    "name": "ipython",
    "version": 3
   },
   "file_extension": ".py",
   "mimetype": "text/x-python",
   "name": "python",
   "nbconvert_exporter": "python",
   "pygments_lexer": "ipython3",
   "version": "3.11.2"
  }
 },
 "nbformat": 4,
 "nbformat_minor": 5
}
