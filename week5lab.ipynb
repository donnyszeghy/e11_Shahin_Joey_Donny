{
 "cells": [
  {
   "cell_type": "code",
   "execution_count": null,
   "id": "97d0f257-b249-4689-97a7-7733e709f0ec",
   "metadata": {},
   "outputs": [],
   "source": [
    "import adafruit_bme680\n",
    "import adafruit_pm25\n",
    "from adafruit_pm25.uart import PM25_UART\n",
    "import time\n",
    "import board\n",
    "import csv\n",
    "import serial\n",
    "import matplotlib.pyplot as plt"
   ]
  },
  {
   "cell_type": "code",
   "execution_count": null,
   "id": "acfc34be-05a5-4363-8b11-801151e2b50f",
   "metadata": {},
   "outputs": [],
   "source": [
    "start_time = time.time()\n",
    "now = start_time\n",
    "\n",
    "run_time = 30\n",
    "run_time = int(sys.argv[1])\n",
    "\n",
    "filename = \"week5_lab_data.csv\"\n",
    "filename = sys.argv[2]"
   ]
  },
  {
   "cell_type": "code",
   "execution_count": null,
   "id": "223ac6d9-18b0-482a-8f1d-fe20f3c6b603",
   "metadata": {},
   "outputs": [],
   "source": [
    "# Create sensor object, communicating over the board's default I2C bus\n",
    "i2c = board.I2C()   # uses board.SCL and board.SDA\n",
    "bme680 = adafruit_bme680.Adafruit_BME680_I2C(i2c)\n",
    "\n",
    "# change this to match the location's pressure (hPa) at sea level\n",
    "bme680.sea_level_pressure = 1013.25\n",
    "\n",
    "reset_pin=None\n",
    "uart = serial.Serial(\"/dev/ttyS0\", baudrate=9600, timeout=0.25)\n",
    "pm25 = PM25_UART(uart, reset_pin)\n",
    "aqdata = pm25.read()"
   ]
  },
  {
   "cell_type": "code",
   "execution_count": null,
   "id": "fdeb0f6f-ae54-4954-894e-fce1890dce5c",
   "metadata": {},
   "outputs": [],
   "source": [
    "file = open(filename, 'w', newline='')\n",
    "writer = csv.writer(file)"
   ]
  },
  {
   "cell_type": "code",
   "execution_count": null,
   "id": "f5c7b512-a51f-4a02-9adf-a13f183e34f7",
   "metadata": {},
   "outputs": [],
   "source": [
    "meta_data = [Time, pm25, pm10, Temperature, Pressure, Humidity, Altitude]\n",
    "writer.writerow(meta_data)"
   ]
  },
  {
   "cell_type": "code",
   "execution_count": null,
   "id": "56022979-3b15-4af6-9f94-8b1822c78fb4",
   "metadata": {},
   "outputs": [],
   "source": [
    "while (now - start_time) < run_time:\n",
    "    \n",
    "    time.sleep(1)\n",
    "    \n",
    "    data25um = aqdata[\"particles 25um\"]\n",
    "    data10um = aqdata[\"particles 10um\"]\n",
    "\n",
    "    temp = bme680.temperature\n",
    "    humidity = bme680.relative_humidity\n",
    "    press = bme680.pressure\n",
    "    alt = bme680.altitude\n",
    "    \n",
    "    now = time.time()\n",
    "    datalist = [now, data]\n",
    "    dwriter.writerow(datalist)\n",
    "    print(datalist)\n",
    "\n",
    "file.close()"
   ]
  }
 ],
 "metadata": {
  "kernelspec": {
   "display_name": "Python 3 (ipykernel)",
   "language": "python",
   "name": "python3"
  },
  "language_info": {
   "codemirror_mode": {
    "name": "ipython",
    "version": 3
   },
   "file_extension": ".py",
   "mimetype": "text/x-python",
   "name": "python",
   "nbconvert_exporter": "python",
   "pygments_lexer": "ipython3",
   "version": "3.9.15"
  }
 },
 "nbformat": 4,
 "nbformat_minor": 5
}
