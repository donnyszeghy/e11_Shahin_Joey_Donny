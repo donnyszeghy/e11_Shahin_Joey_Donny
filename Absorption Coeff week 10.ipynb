{
 "cells": [
  {
   "cell_type": "markdown",
   "id": "386ade69",
   "metadata": {},
   "source": [
    "I = I0e^-ux (x = thickness)\n",
    "\n",
    "Mean I0 = for 0 sheet => 31.58\n",
    "Mean I Al = 1 sheet Al = 7.75 (1cm thick)\n",
    "Mean I W = 1 sheet W = 3.58 (1cm thick)\n",
    "\n",
    "u(Al) = -ln(31.58/7.75)/1cm = -1.404 cm^-1\n",
    "\n",
    "u(W) = -ln(31.58/3.58)/1cm = -2.177cm^-1\n",
    "\n",
    "This makes sense as the Tungsten is more dense than Alumnium so its respective coefficent should be higher and as it is."
   ]
  }
 ],
 "metadata": {
  "kernelspec": {
   "display_name": "Python 3 (ipykernel)",
   "language": "python",
   "name": "python3"
  },
  "language_info": {
   "codemirror_mode": {
    "name": "ipython",
    "version": 3
   },
   "file_extension": ".py",
   "mimetype": "text/x-python",
   "name": "python",
   "nbconvert_exporter": "python",
   "pygments_lexer": "ipython3",
   "version": "3.11.2"
  }
 },
 "nbformat": 4,
 "nbformat_minor": 5
}
