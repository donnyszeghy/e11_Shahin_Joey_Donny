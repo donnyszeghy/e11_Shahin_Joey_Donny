{
 "cells": [
  {
   "cell_type": "code",
   "execution_count": 1,
   "id": "fe8484a2-aff3-4985-afda-2fbb9f3dc60f",
   "metadata": {
    "scrolled": true
   },
   "outputs": [
    {
     "name": "stdin",
     "output_type": "stream",
     "text": [
      "How many seconds to run? 120\n",
      "File name? lab8_7_3w\n",
      "How long is each interval? 10\n"
     ]
    }
   ],
   "source": [
    "import RPi.GPIO as GPIO\n",
    "import datetime\n",
    "import time\n",
    "import csv\n",
    "\n",
    "\n",
    "elapsed_time = 0\n",
    "\n",
    "runtime = int(input(\"How many seconds to run?\"))\n",
    "filename = str(input(\"File name?\"))\n",
    "interval = int(input('How long is each interval?'))\n",
    "\n",
    "meta_data = ['Start', 'Length','Counts']\n",
    "file = open('/home/pi/Documents/'+filename+'.csv', 'w', newline='')\n",
    "writer = csv.writer(file)\n",
    "writer.writerow(meta_data)\n",
    "\n",
    "\n",
    "GPIO.setmode(GPIO.BOARD)\n",
    "\n",
    "\n",
    "GPIO.setup(8, GPIO.IN)\n",
    "\n",
    "channel = GPIO.wait_for_edge(8, GPIO.FALLING, timeout = 5000)\n",
    "#print(channel)\n",
    "\n",
    "GPIO.add_event_detect(8, GPIO.FALLING)"
   ]
  },
  {
   "cell_type": "code",
   "execution_count": 2,
   "id": "87e3f03f-8a10-48a7-8519-1179d2d836db",
   "metadata": {},
   "outputs": [
    {
     "name": "stdout",
     "output_type": "stream",
     "text": [
      "[1710976110.7374213, 10.000001668930054, 0]\n",
      "[1710976120.73826, 10.000001192092896, 0]\n",
      "[1710976130.7390058, 10.000000953674316, 1]\n",
      "[1710976140.7397618, 10.000001192092896, 2]\n",
      "[1710976150.7405202, 10.000001668930054, 2]\n",
      "[1710976160.7412643, 10.000001668930054, 2]\n",
      "[1710976170.742014, 10.000001668930054, 0]\n",
      "[1710976180.742767, 10.000000953674316, 0]\n",
      "[1710976190.7435174, 10.000000953674316, 0]\n",
      "[1710976200.7443004, 10.000001192092896, 1]\n",
      "[1710976210.7450976, 10.000001907348633, 1]\n",
      "[1710976220.7458518, 10.000000953674316, 2]\n"
     ]
    }
   ],
   "source": [
    "counts = 0\n",
    "data = []\n",
    "elapsed_time = 0\n",
    "interval_elapsed = 0\n",
    "start = time.time()\n",
    "\n",
    "while elapsed_time <= runtime:\n",
    "    interval_start = time.time()\n",
    "    counts = 0\n",
    "    interval_elapsed = 0\n",
    "    data = []\n",
    "\n",
    "    \n",
    "    while interval_elapsed <= interval:\n",
    "        if GPIO.event_detected(channel):\n",
    "            counts += 1\n",
    "        interval_elapsed = time.time() - interval_start\n",
    "\n",
    "    data = [interval_start, time.time()-interval_start, counts]\n",
    "    elapsed_time = time.time() - start\n",
    "    writer.writerow(data)\n",
    "    print(data)\n",
    "    \n",
    "\n",
    "file.close()"
   ]
  },
  {
   "cell_type": "code",
   "execution_count": null,
   "id": "ce706a22-31b2-4357-97ff-614372386294",
   "metadata": {},
   "outputs": [],
   "source": []
  }
 ],
 "metadata": {
  "kernelspec": {
   "display_name": "Python 3 (ipykernel)",
   "language": "python",
   "name": "python3"
  },
  "language_info": {
   "codemirror_mode": {
    "name": "ipython",
    "version": 3
   },
   "file_extension": ".py",
   "mimetype": "text/x-python",
   "name": "python",
   "nbconvert_exporter": "python",
   "pygments_lexer": "ipython3",
   "version": "3.9.2"
  }
 },
 "nbformat": 4,
 "nbformat_minor": 5
}
