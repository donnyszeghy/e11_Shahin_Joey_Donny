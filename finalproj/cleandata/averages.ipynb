{
 "cells": [
  {
   "cell_type": "code",
   "execution_count": 1,
   "id": "2736169c-2b32-451d-bf55-2995fd5658b3",
   "metadata": {},
   "outputs": [],
   "source": [
    "from pathlib import Path\n",
    "import numpy as np\n",
    "import csv\n",
    "import pandas as pd\n",
    "import matplotlib as plt"
   ]
  },
  {
   "cell_type": "code",
   "execution_count": 18,
   "id": "a8e62a33-4f70-4714-85b8-b0e0fb32f4f5",
   "metadata": {},
   "outputs": [],
   "source": [
    "file = open('averages.csv', 'w', newline='')\n",
    "writer = csv.writer(file)\n",
    "meta_data = ['counts', 'altitude', 'co2', 'lat', 'long']\n",
    "writer.writerow(meta_data)\n",
    "\n",
    "directory = Path.cwd()/'newdata'"
   ]
  },
  {
   "cell_type": "code",
   "execution_count": 19,
   "id": "1d3d54ff-1d41-4184-b2a3-52bfceef65c9",
   "metadata": {},
   "outputs": [
    {
     "name": "stdout",
     "output_type": "stream",
     "text": [
      "/home/jovyan/e11/final proj/newdata/file24.csv\n",
      "/home/jovyan/e11/final proj/newdata/file6.csv\n",
      "/home/jovyan/e11/final proj/newdata/file18.csv\n",
      "/home/jovyan/e11/final proj/newdata/file30.csv\n",
      "/home/jovyan/e11/final proj/newdata/file4.csv\n",
      "/home/jovyan/e11/final proj/newdata/file11.csv\n",
      "/home/jovyan/e11/final proj/newdata/file29.csv\n",
      "/home/jovyan/e11/final proj/newdata/file33.csv\n",
      "/home/jovyan/e11/final proj/newdata/file17.csv\n",
      "/home/jovyan/e11/final proj/newdata/file21.csv\n",
      "/home/jovyan/e11/final proj/newdata/file10.csv\n",
      "/home/jovyan/e11/final proj/newdata/file26.csv\n",
      "/home/jovyan/e11/final proj/newdata/file32.csv\n",
      "/home/jovyan/e11/final proj/newdata/file8.csv\n",
      "/home/jovyan/e11/final proj/newdata/file22.csv\n",
      "/home/jovyan/e11/final proj/newdata/file16.csv\n",
      "/home/jovyan/e11/final proj/newdata/file20.csv\n",
      "/home/jovyan/e11/final proj/newdata/file5.csv\n",
      "/home/jovyan/e11/final proj/newdata/file23.csv\n",
      "/home/jovyan/e11/final proj/newdata/file12.csv\n",
      "/home/jovyan/e11/final proj/newdata/file2.csv\n",
      "/home/jovyan/e11/final proj/newdata/file34.csv\n",
      "/home/jovyan/e11/final proj/newdata/file19.csv\n",
      "/home/jovyan/e11/final proj/newdata/file31.csv\n",
      "/home/jovyan/e11/final proj/newdata/file28.csv\n",
      "/home/jovyan/e11/final proj/newdata/file25.csv\n",
      "/home/jovyan/e11/final proj/newdata/file9.csv\n",
      "/home/jovyan/e11/final proj/newdata/file14.csv\n",
      "/home/jovyan/e11/final proj/newdata/file27.csv\n",
      "/home/jovyan/e11/final proj/newdata/file15.csv\n",
      "/home/jovyan/e11/final proj/newdata/file13.csv\n",
      "/home/jovyan/e11/final proj/newdata/file1.csv\n",
      "/home/jovyan/e11/final proj/newdata/file3.csv\n",
      "/home/jovyan/e11/final proj/newdata/file7.csv\n",
      "34\n"
     ]
    }
   ],
   "source": [
    "n = 0\n",
    "for p in directory.iterdir():\n",
    "    if p.suffix =='.csv':\n",
    "        print(p)\n",
    "        reader = pd.read_csv(p)\n",
    "        avgs = np.mean(reader, 0)\n",
    "        row = [avgs['counts'], avgs['altitude'], avgs['co2'], reader['lat'][2], reader['long'][2]]\n",
    "        writer.writerow(row)\n",
    "        n+=1\n",
    "file.close()\n",
    "print(n)"
   ]
  },
  {
   "cell_type": "code",
   "execution_count": null,
   "id": "10258eea-717e-4ae7-877f-40683247fd66",
   "metadata": {},
   "outputs": [],
   "source": []
  }
 ],
 "metadata": {
  "kernelspec": {
   "display_name": "Python 3 (ipykernel)",
   "language": "python",
   "name": "python3"
  },
  "language_info": {
   "codemirror_mode": {
    "name": "ipython",
    "version": 3
   },
   "file_extension": ".py",
   "mimetype": "text/x-python",
   "name": "python",
   "nbconvert_exporter": "python",
   "pygments_lexer": "ipython3",
   "version": "3.9.15"
  }
 },
 "nbformat": 4,
 "nbformat_minor": 5
}
