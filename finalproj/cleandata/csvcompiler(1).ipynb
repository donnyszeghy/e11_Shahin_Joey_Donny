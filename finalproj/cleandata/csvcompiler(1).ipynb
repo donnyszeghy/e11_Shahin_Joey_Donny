{
 "cells": [
  {
   "cell_type": "code",
   "execution_count": 45,
   "id": "601ad79a-4c20-412e-a6d6-240cc4cb2ebb",
   "metadata": {},
   "outputs": [],
   "source": [
    "from pathlib import Path\n",
    "import numpy as np\n",
    "import csv\n",
    "import pandas as pd\n",
    "import matplotlib as plt"
   ]
  },
  {
   "cell_type": "code",
   "execution_count": 106,
   "id": "0811c753-e514-4ce9-b2eb-fd8e635785d6",
   "metadata": {},
   "outputs": [
    {
     "name": "stdout",
     "output_type": "stream",
     "text": [
      "55.102193390942766 78.12872403867915\n"
     ]
    }
   ],
   "source": [
    "zerof1 = (pd.read_csv(Path.cwd()/'data'/'Locns2_2024-04-17_17-37-41.csv')).iloc[1:]\n",
    "zeroalt1=np.mean(zerof1['Altitude'])\n",
    "zerof2 = (pd.read_csv(Path.cwd()/'data'/'1day2Loc1_session2_group1_2024-04-17_20-53-20.csv')).iloc[1:]\n",
    "zeroalt2=np.mean(zerof2['Altitude'])\n",
    "print(zeroalt1, zeroalt2)"
   ]
  },
  {
   "cell_type": "code",
   "execution_count": 200,
   "id": "de7e12e5-7398-442f-80fb-7e239eac5f84",
   "metadata": {},
   "outputs": [
    {
     "name": "stdout",
     "output_type": "stream",
     "text": [
      "429.7121276855469\n",
      "37.875384\n"
     ]
    }
   ],
   "source": [
    "file1 = pd.read_csv(Path.cwd()/'data'/'19day2Loc1_session2_group1_2024-04-17_22-53-26.csv').iloc[1:]\n",
    "file2 = pd.read_csv(Path.cwd()/'data'/'19day2co2.csv').iloc[1:]\n",
    "print(file2['co2'][4])\n",
    "locs = pd.read_csv(Path.cwd()/'data'/'e11_finalproj_locations.csv')\n",
    "print(locs['Lat'][1])"
   ]
  },
  {
   "cell_type": "code",
   "execution_count": 198,
   "id": "a1c07207-6994-4c8c-aeb5-c660157c896e",
   "metadata": {},
   "outputs": [],
   "source": [
    "def newfile(df1, df2, day, num):\n",
    "    file = open('newdata/file'+str(num)+'.csv', 'w', newline='')\n",
    "    writer = csv.writer(file)\n",
    "    meta_data=['counts', 'altitude', 'co2', 'lat', 'long']\n",
    "    writer.writerow(meta_data)\n",
    "    lat = locs['Lat'][num-1]\n",
    "    long = locs['Lon'][num-1]\n",
    "    if np.shape(df1)[0]>=np.shape(df2)[0]:\n",
    "        for row in range(1,np.shape(df1)[0]):\n",
    "            counts = df1['counts'][row]\n",
    "            altitude = df1['Altitude'][row] - zeroalt1 if day==1 else df1['Altitude'][row] - zeroalt2\n",
    "            if row<np.shape(df2)[0]:\n",
    "                co2 = df2['co2'][row]\n",
    "            else:\n",
    "                co2 = np.nan\n",
    "            line = [counts, altitude, co2, lat, long]\n",
    "            writer.writerow(line)\n",
    "    else:\n",
    "        for row in range(1,np.shape(df2)[0]):\n",
    "            co2 = df2['co2'][row]\n",
    "            if row-3<np.shape(df1)[0]:\n",
    "                counts = df1['counts'][row]\n",
    "                altitude = df1['Altitude'][row] - zeroalt1 if day==1 else df1['Altitude'][row] - zeroalt2\n",
    "            else:\n",
    "                counts = np.nan\n",
    "                altitude = np.nan\n",
    "            line = [counts, altitude, co2, lat, long]\n",
    "            writer.writerow(line)"
   ]
  },
  {
   "cell_type": "code",
   "execution_count": 201,
   "id": "c4203f81-ca39-4ff6-babf-3eb0644c68cc",
   "metadata": {},
   "outputs": [],
   "source": [
    "newfile(file1, file2, 2, 34)"
   ]
  },
  {
   "cell_type": "code",
   "execution_count": 203,
   "id": "358ab9a3-7123-4440-b4ca-6a2382edc45e",
   "metadata": {},
   "outputs": [],
   "source": [
    "def removebad(file):\n",
    "    writer = csv.writer(file)\n",
    "    reader = pd.read_csv(file)\n",
    "    for row in range(np.shape(file)[0]):\n",
    "        if reader['co2'][row] == 0 or reader['co2'][row] == 40000:\n",
    "            line = [reader['counts'][row],reader['altitude'][row],np.nan,reader['lat'][row],reader['long'][row]]\n",
    "            writer.writerow(line)\n",
    "            "
   ]
  },
  {
   "cell_type": "code",
   "execution_count": null,
   "id": "5923efc5-0197-4e4b-b955-b038e1505d2d",
   "metadata": {},
   "outputs": [],
   "source": []
  }
 ],
 "metadata": {
  "kernelspec": {
   "display_name": "Python 3 (ipykernel)",
   "language": "python",
   "name": "python3"
  },
  "language_info": {
   "codemirror_mode": {
    "name": "ipython",
    "version": 3
   },
   "file_extension": ".py",
   "mimetype": "text/x-python",
   "name": "python",
   "nbconvert_exporter": "python",
   "pygments_lexer": "ipython3",
   "version": "3.9.15"
  }
 },
 "nbformat": 4,
 "nbformat_minor": 5
}
